{
 "cells": [
  {
   "cell_type": "code",
   "execution_count": 1,
   "metadata": {},
   "outputs": [],
   "source": [
    "import os\n",
    "\n",
    "CODIGO_EXPERIMENTO = 'ULMFiT-backward'\n",
    "TAREFA = 'predict_appeals'\n",
    "METODO = 'ulmfit'\n",
    "LOSSFUNC = 'weighted-xentropy'\n",
    "SENTIDO = 'bwd'\n",
    "TREINAMENTO = 'gradual'\n",
    "DATASET = 'JEF-5anos'\n",
    "EPOCHS = 20\n",
    "WD = 0.01\n",
    "NOME_RUNNING = f'01-{CODIGO_EXPERIMENTO}-{METODO}-{TAREFA}-{LOSSFUNC}-{EPOCHS}-{WD}-{DATASET}'\n",
    "os.environ['WANDB_NOTEBOOK_NAME'] = f'{TAREFA}-{METODO}-{LOSSFUNC}-{EPOCHS}epochs-{TREINAMENTO}-{DATASET}.ipynb'\n",
    "config = {'epochs': EPOCHS, 'wd': WD, 'dataset': DATASET, 'lossfunc': LOSSFUNC }\n",
    "\n",
    "import IPython\n",
    "from fastai import *\n",
    "from fastai.text import *\n",
    "from fastai.callbacks import *\n",
    "from multiprocessing import cpu_count\n",
    "from fastai.utils.ipython import * \n",
    "from fastai.basics import *\n",
    "import re\n",
    "import warnings\n",
    "import wandb\n",
    "from fastai.metrics import *\n",
    "from fastai.metrics import CMScores\n",
    "from sklearn.metrics import balanced_accuracy_score\n",
    "from sklearn.metrics import f1_score\n",
    "from sklearn.metrics import matthews_corrcoef\n",
    "from datetime import datetime, timedelta\n",
    "\n",
    "%matplotlib inline"
   ]
  },
  {
   "cell_type": "code",
   "execution_count": 2,
   "metadata": {},
   "outputs": [],
   "source": [
    "def random_seed(seed_value, use_cuda):\n",
    "    np.random.seed(seed_value) # cpu vars\n",
    "    torch.manual_seed(seed_value) # cpu  vars\n",
    "    random.seed(seed_value) # Python\n",
    "    if use_cuda: \n",
    "        torch.cuda.manual_seed(seed_value)\n",
    "        torch.cuda.manual_seed_all(seed_value) # gpu vars\n",
    "        torch.backends.cudnn.deterministic = True  #needed\n",
    "        torch.backends.cudnn.benchmark = False\n",
    "random_seed(314, True)"
   ]
  },
  {
   "cell_type": "code",
   "execution_count": 3,
   "metadata": {},
   "outputs": [],
   "source": [
    "@np_func\n",
    "def f1micro(inp,targ): return f1_score(targ, np.argmax(inp, axis=-1), average='micro')\n",
    "\n",
    "@np_func\n",
    "def f1macro(inp,targ): return f1_score(targ, np.argmax(inp, axis=-1), average='macro')\n",
    "\n",
    "@np_func\n",
    "def f1weighted(inp,targ): return f1_score(targ, np.argmax(inp, axis=-1), average='weighted')\n",
    "\n",
    "@np_func\n",
    "def bacca(inp,targ): return balanced_accuracy_score(targ, np.argmax(inp, axis=-1), adjusted=True) #0 random 1 perfect\n",
    "\n",
    "@np_func\n",
    "def bacc(inp,targ): return balanced_accuracy_score(targ, np.argmax(inp, axis=-1), adjusted=False) # 1 perfect\n",
    "\n",
    "@np_func\n",
    "def f1binary(inp,targ): return f1_score(targ, np.argmax(inp, axis=-1), average='binary')\n",
    "\n",
    "@np_func\n",
    "def mcc(inp,targ): return matthews_corrcoef(targ, np.argmax(inp, axis=-1))"
   ]
  },
  {
   "cell_type": "code",
   "execution_count": 4,
   "metadata": {},
   "outputs": [
    {
     "name": "stdout",
     "output_type": "stream",
     "text": [
      "/media/jacob/data4/jefs5/paper/code\n"
     ]
    }
   ],
   "source": [
    "bs = 64\n",
    "data_path = Path(os.getcwd())\n",
    "print(data_path)"
   ]
  },
  {
   "cell_type": "code",
   "execution_count": 5,
   "metadata": {},
   "outputs": [],
   "source": [
    "lang = 'pt'\n",
    "#name = f'{lang}wiki'\n",
    "path = data_path\n",
    "path.mkdir(exist_ok=True, parents=True)\n",
    "modelsdir = Path('general_portuguese_language_models/ulmfit/')\n",
    "\n",
    "lm_fns2 = [f'{modelsdir}/{lang}_wt_60k_ulmfit_fwd', f'{modelsdir}/{lang}_wt_vocab_60k_ulmfit_fwd']\n",
    "lm_fns2_bwd = [f'{modelsdir}/{lang}_wt_60k_ulmfit_bwd', f'{modelsdir}/{lang}_wt_vocab_60k_ulmfit_bwd']"
   ]
  },
  {
   "cell_type": "code",
   "execution_count": 6,
   "metadata": {},
   "outputs": [],
   "source": [
    "torch.cuda.set_device(0)"
   ]
  },
  {
   "cell_type": "code",
   "execution_count": 7,
   "metadata": {},
   "outputs": [],
   "source": [
    "import warnings\n",
    "warnings.filterwarnings('ignore')  "
   ]
  },
  {
   "cell_type": "code",
   "execution_count": 8,
   "metadata": {},
   "outputs": [],
   "source": [
    "dir_databunch = path / 'databunch_ulmfit'\n",
    "dir_databunch.mkdir(exist_ok=True, parents=True)"
   ]
  },
  {
   "cell_type": "code",
   "execution_count": 9,
   "metadata": {},
   "outputs": [],
   "source": [
    "save_path = path / 'saved_models_ulmfit'\n",
    "save_path.mkdir(exist_ok=True, parents=True)"
   ]
  },
  {
   "cell_type": "code",
   "execution_count": 10,
   "metadata": {},
   "outputs": [],
   "source": [
    "df_train = pd.read_parquet('../data/train_en.parquet')\n",
    "df_valid = pd.read_parquet('../data/valid_en.parquet')\n"
   ]
  },
  {
   "cell_type": "code",
   "execution_count": 11,
   "metadata": {},
   "outputs": [
    {
     "data": {
      "text/plain": [
       "0    2018-03-26 17:02:04\n",
       "1    2018-03-26 17:02:45\n",
       "2    2018-03-26 17:07:16\n",
       "3    2018-03-26 17:07:16\n",
       "4    2018-03-26 17:07:16\n",
       "5    2018-03-26 17:07:16\n",
       "6    2018-03-26 17:07:16\n",
       "7    2018-03-26 17:07:16\n",
       "8    2018-03-26 17:07:16\n",
       "9    2018-03-26 17:07:16\n",
       "Name: date_appeal_panel_ruling, dtype: object"
      ]
     },
     "execution_count": 11,
     "metadata": {},
     "output_type": "execute_result"
    }
   ],
   "source": [
    "df_valid.date_appeal_panel_ruling.head(10)"
   ]
  },
  {
   "cell_type": "code",
   "execution_count": 12,
   "metadata": {},
   "outputs": [
    {
     "name": "stdout",
     "output_type": "stream",
     "text": [
      "Previous size of training data: 612961. Selecting only last 5 years of the training dataset\n",
      "New size of training data: 380526\n"
     ]
    }
   ],
   "source": [
    "print(f'Previous size of training data: {len(df_train)}. Selecting only last 5 years of the training dataset')\n",
    "df_train.date_appeal_panel_ruling = pd.to_datetime(df_train.date_appeal_panel_ruling, infer_datetime_format=True, yearfirst=True, dayfirst=False)\n",
    "thresh = df_train.date_appeal_panel_ruling.max() - timedelta(days=365*5)\n",
    "df_train = df_train[df_train.date_appeal_panel_ruling >= thresh].copy()\n",
    "print(f'New size of training data: {len(df_train)}')"
   ]
  },
  {
   "cell_type": "code",
   "execution_count": 13,
   "metadata": {},
   "outputs": [],
   "source": [
    "df_train['is_valid'] = False\n",
    "df_valid['is_valid'] = True"
   ]
  },
  {
   "cell_type": "code",
   "execution_count": 14,
   "metadata": {},
   "outputs": [],
   "source": [
    "df = df_train.append(df_valid).copy()"
   ]
  },
  {
   "cell_type": "code",
   "execution_count": 15,
   "metadata": {},
   "outputs": [
    {
     "data": {
      "text/plain": [
       "0"
      ]
     },
     "execution_count": 15,
     "metadata": {},
     "output_type": "execute_result"
    }
   ],
   "source": [
    "import gc\n",
    "del(df_train)\n",
    "del(df_valid)\n",
    "gc.collect()"
   ]
  },
  {
   "cell_type": "code",
   "execution_count": 16,
   "metadata": {},
   "outputs": [
    {
     "name": "stdout",
     "output_type": "stream",
     "text": [
      "(456868, 37)\n"
     ]
    }
   ],
   "source": [
    "print(df.shape)\n"
   ]
  },
  {
   "cell_type": "code",
   "execution_count": 17,
   "metadata": {},
   "outputs": [
    {
     "data": {
      "text/plain": [
       "NÃO PROVIMENTO    356907\n",
       "PROVIMENTO         99961\n",
       "Name: label, dtype: int64"
      ]
     },
     "execution_count": 17,
     "metadata": {},
     "output_type": "execute_result"
    }
   ],
   "source": [
    "df.label.value_counts()"
   ]
  },
  {
   "cell_type": "code",
   "execution_count": 18,
   "metadata": {},
   "outputs": [],
   "source": [
    "import joblib"
   ]
  },
  {
   "cell_type": "code",
   "execution_count": 19,
   "metadata": {},
   "outputs": [],
   "source": [
    "with open(path / 'general_portuguese_language_models/ulmfit/vocab-bwd.joblib', \"rb\") as f:\n",
    "    vocab = joblib.load(f)"
   ]
  },
  {
   "cell_type": "code",
   "execution_count": 20,
   "metadata": {},
   "outputs": [
    {
     "data": {
      "text/plain": [
       "0"
      ]
     },
     "execution_count": 20,
     "metadata": {},
     "output_type": "execute_result"
    }
   ],
   "source": [
    "import gc\n",
    "gc.collect()"
   ]
  },
  {
   "cell_type": "code",
   "execution_count": 21,
   "metadata": {},
   "outputs": [
    {
     "data": {
      "text/html": [],
      "text/plain": [
       "<IPython.core.display.HTML object>"
      ]
     },
     "metadata": {},
     "output_type": "display_data"
    },
    {
     "data": {
      "text/html": [],
      "text/plain": [
       "<IPython.core.display.HTML object>"
      ]
     },
     "metadata": {},
     "output_type": "display_data"
    },
    {
     "name": "stdout",
     "output_type": "stream",
     "text": [
      "CPU times: user 5min 8s, sys: 10min 35s, total: 15min 43s\n",
      "Wall time: 19min 57s\n"
     ]
    }
   ],
   "source": [
    "%%time\n",
    "data_clas = (TextList.from_df(df, path, vocab=vocab, cols='preprocessed_full_text_first_instance_court_ruling')\n",
    "    .split_from_df('is_valid')\n",
    "    .label_from_df(cols='label')\n",
    "    .databunch(bs=bs, num_workers=14, backwards=True))"
   ]
  },
  {
   "cell_type": "code",
   "execution_count": 22,
   "metadata": {},
   "outputs": [
    {
     "name": "stdout",
     "output_type": "stream",
     "text": [
      "CPU times: user 34.7 s, sys: 31.1 s, total: 1min 5s\n",
      "Wall time: 1min 30s\n"
     ]
    }
   ],
   "source": [
    "%%time\n",
    "data_clas.save(dir_databunch / f'{CODIGO_EXPERIMENTO}_textlist_{TAREFA}_60k_ulmfit_bwd')"
   ]
  },
  {
   "cell_type": "markdown",
   "metadata": {},
   "source": [
    "## Restarting notebook to release memory\n",
    "### Rerun cells 1 to 9 before proceeding"
   ]
  },
  {
   "cell_type": "code",
   "execution_count": 10,
   "metadata": {},
   "outputs": [
    {
     "name": "stdout",
     "output_type": "stream",
     "text": [
      "CPU times: user 2min 15s, sys: 18.7 s, total: 2min 34s\n",
      "Wall time: 2min 34s\n"
     ]
    }
   ],
   "source": [
    "%%time\n",
    "bs = 64\n",
    "data_clas = load_data(dir_databunch, f'{CODIGO_EXPERIMENTO}_textlist_{TAREFA}_60k_ulmfit_bwd', bs=bs, num_workers=1, backwards=True)"
   ]
  },
  {
   "cell_type": "code",
   "execution_count": 11,
   "metadata": {},
   "outputs": [
    {
     "data": {
      "text/html": [
       "<table border=\"1\" class=\"dataframe\">\n",
       "  <thead>\n",
       "    <tr style=\"text-align: right;\">\n",
       "      <th>text</th>\n",
       "      <th>target</th>\n",
       "    </tr>\n",
       "  </thead>\n",
       "  <tbody>\n",
       "    <tr>\n",
       "      <td>de março de 14 , al xxup / palmares xxmaj dos união xxmaj . partes as se - xxunk xxmaj . ) 95 / 9.099 n.o federal xxmaj lei xxmaj da 55 . art ( honorários e custas em vencido o condenar de deixando , pedidos os improcedente julgo , exposto do face em xxmaj . contribuição de tempo por proporcional aposentadoria da exemplo a , previdenciários benefícios outros pleiteie</td>\n",
       "      <td>NÃO PROVIMENTO</td>\n",
       "    </tr>\n",
       "    <tr>\n",
       "      <td>p , 2000 , rey xxmaj del xxmaj : horizonte xxmaj belo xxmaj . xxunk . previdência xxmaj da reforma xxmaj in xxmaj ] 2 [ . 378 p. , 2002 , atlas xxmaj , . ed 18a , social xxmaj seguridade xxmaj da direito xxmaj , martins xxmaj pinto xxmaj sérgio xxmaj ] 1 [ ) trf5 xxup / xxunk xxup / 1002 n.o ato xxmaj ( titularidade xxmaj</td>\n",
       "      <td>PROVIMENTO</td>\n",
       "    </tr>\n",
       "    <tr>\n",
       "      <td>araújo xxup carvalho xxup de xxup josé xxup antônio xxup 2014 de janeiro de 28 , al xxup / palmares xxmaj dos união xxmaj . necessárias providências xxmaj e intimações xxmaj . necessárias anotações as com , arquivo ao , impugnação havendo não xxmaj . ) fonajef xxmaj / 34 enunciado xxmaj ( recursal xxmaj turma xxmaj à , após xxmaj . legal prazo no , contrarrazões para inss xxup</td>\n",
       "      <td>PROVIMENTO</td>\n",
       "    </tr>\n",
       "    <tr>\n",
       "      <td>dib xxup xxunk r$ xxup rmi xxup 68 - xxunk cpf xxup no xxmaj benefício xxup decontribuição xxup tempo xxup . ap xxup espécie xxup / benefício xxup dias 3 e meses 8 , anos 38 : der xxup a até total xxmaj d 25 m 2 a há1 dnão 25 m 2 a xxunk / 09 / 30 a 2016 / 07 / 06 d 24 m 4 a</td>\n",
       "      <td>NÃO PROVIMENTO</td>\n",
       "    </tr>\n",
       "    <tr>\n",
       "      <td>de julho de 12 de , cr xxup / 640 no ato xxmaj conforme , federal xxmaj vara xxmaj 7a pela respondendo , federal xxmaj vara xxmaj 10a da substituto xxmaj federal xxmaj xxunk soares xxup marcondes xxup flávio xxup 2016 de julho de 18 , al xxup / palmares xxmaj dos união xxmaj . necessárias providências xxmaj e intimações xxmaj . 09 / 62 n. constitucional xxmaj emenda xxmaj</td>\n",
       "      <td>NÃO PROVIMENTO</td>\n",
       "    </tr>\n",
       "  </tbody>\n",
       "</table>"
      ],
      "text/plain": [
       "<IPython.core.display.HTML object>"
      ]
     },
     "metadata": {},
     "output_type": "display_data"
    }
   ],
   "source": [
    "data_clas.show_batch()"
   ]
  },
  {
   "cell_type": "code",
   "execution_count": 12,
   "metadata": {},
   "outputs": [],
   "source": [
    "all_metrics = [accuracy, error_rate, mcc]\n",
    "learn_c = text_classifier_learner(data_clas, AWD_LSTM, pretrained=False, drop_mult=0.3, \n",
    "                                  metrics=all_metrics, lin_ftrs=[100]).to_fp16()"
   ]
  },
  {
   "cell_type": "code",
   "execution_count": 13,
   "metadata": {},
   "outputs": [],
   "source": [
    "learn_c.load_encoder(path / 'legal_portuguese_language_models/05-2020_fine_tuned_enc_lm_sentencas_60k_ulmfit_bwd');"
   ]
  },
  {
   "cell_type": "code",
   "execution_count": 14,
   "metadata": {},
   "outputs": [
    {
     "data": {
      "text/plain": [
       "FlattenedLoss of CrossEntropyLoss()"
      ]
     },
     "execution_count": 14,
     "metadata": {},
     "output_type": "execute_result"
    }
   ],
   "source": [
    "learn_c.loss_func"
   ]
  },
  {
   "cell_type": "markdown",
   "metadata": {},
   "source": [
    "## Get weights to penalize loss function of the majority class"
   ]
  },
  {
   "cell_type": "code",
   "execution_count": 15,
   "metadata": {},
   "outputs": [
    {
     "data": {
      "text/plain": [
       "(380526, 76342, 456868)"
      ]
     },
     "execution_count": 15,
     "metadata": {},
     "output_type": "execute_result"
    }
   ],
   "source": [
    "num_trn = len(data_clas.train_ds.x)\n",
    "num_val = len(data_clas.valid_ds.x)\n",
    "num_trn, num_val, num_trn+num_val"
   ]
  },
  {
   "cell_type": "code",
   "execution_count": 16,
   "metadata": {},
   "outputs": [
    {
     "data": {
      "text/plain": [
       "(array([297447,  83079]), array([59460, 16882]))"
      ]
     },
     "execution_count": 16,
     "metadata": {},
     "output_type": "execute_result"
    }
   ],
   "source": [
    "trn_LabelCounts = np.unique(data_clas.train_ds.y.items, return_counts=True)[1]\n",
    "val_LabelCounts = np.unique(data_clas.valid_ds.y.items, return_counts=True)[1]\n",
    "trn_LabelCounts, val_LabelCounts"
   ]
  },
  {
   "cell_type": "code",
   "execution_count": 17,
   "metadata": {},
   "outputs": [
    {
     "data": {
      "text/plain": [
       "([0.2183267372006118, 0.7816732627993882],\n",
       " [0.22113646485551863, 0.7788635351444815])"
      ]
     },
     "execution_count": 17,
     "metadata": {},
     "output_type": "execute_result"
    }
   ],
   "source": [
    "trn_weights = [1 - count/num_trn for count in trn_LabelCounts]\n",
    "val_weights = [1 - count/num_val for count in val_LabelCounts]\n",
    "trn_weights, val_weights"
   ]
  },
  {
   "cell_type": "code",
   "execution_count": 18,
   "metadata": {},
   "outputs": [],
   "source": [
    "loss_weights = torch.FloatTensor(trn_weights).cuda()"
   ]
  },
  {
   "cell_type": "code",
   "execution_count": 19,
   "metadata": {},
   "outputs": [],
   "source": [
    "learn_c.loss_func = CrossEntropyFlat(weight=loss_weights )"
   ]
  },
  {
   "cell_type": "code",
   "execution_count": 20,
   "metadata": {},
   "outputs": [
    {
     "data": {
      "text/plain": [
       "FlattenedLoss of CrossEntropyLoss()"
      ]
     },
     "execution_count": 20,
     "metadata": {},
     "output_type": "execute_result"
    }
   ],
   "source": [
    "learn_c.loss_func"
   ]
  },
  {
   "cell_type": "code",
   "execution_count": 21,
   "metadata": {},
   "outputs": [
    {
     "data": {
      "text/plain": [
       "tensor([0.2183, 0.7817], device='cuda:0')"
      ]
     },
     "execution_count": 21,
     "metadata": {},
     "output_type": "execute_result"
    }
   ],
   "source": [
    "learn_c.loss_func.weight"
   ]
  },
  {
   "cell_type": "code",
   "execution_count": 22,
   "metadata": {},
   "outputs": [
    {
     "data": {
      "text/html": [
       "\n",
       "    <div>\n",
       "        <style>\n",
       "            /* Turns off some styling */\n",
       "            progress {\n",
       "                /* gets rid of default border in Firefox and Opera. */\n",
       "                border: none;\n",
       "                /* Needs to be in here for Safari polyfill so background images work as expected. */\n",
       "                background-size: auto;\n",
       "            }\n",
       "            .progress-bar-interrupted, .progress-bar-interrupted::-webkit-progress-bar {\n",
       "                background: #F44336;\n",
       "            }\n",
       "        </style>\n",
       "      <progress value='0' class='' max='1' style='width:300px; height:20px; vertical-align: middle;'></progress>\n",
       "      0.00% [0/1 00:00<00:00]\n",
       "    </div>\n",
       "    \n",
       "<table border=\"1\" class=\"dataframe\">\n",
       "  <thead>\n",
       "    <tr style=\"text-align: left;\">\n",
       "      <th>epoch</th>\n",
       "      <th>train_loss</th>\n",
       "      <th>valid_loss</th>\n",
       "      <th>accuracy</th>\n",
       "      <th>error_rate</th>\n",
       "      <th>mcc</th>\n",
       "      <th>time</th>\n",
       "    </tr>\n",
       "  </thead>\n",
       "  <tbody>\n",
       "  </tbody>\n",
       "</table><p>\n",
       "\n",
       "    <div>\n",
       "        <style>\n",
       "            /* Turns off some styling */\n",
       "            progress {\n",
       "                /* gets rid of default border in Firefox and Opera. */\n",
       "                border: none;\n",
       "                /* Needs to be in here for Safari polyfill so background images work as expected. */\n",
       "                background-size: auto;\n",
       "            }\n",
       "            .progress-bar-interrupted, .progress-bar-interrupted::-webkit-progress-bar {\n",
       "                background: #F44336;\n",
       "            }\n",
       "        </style>\n",
       "      <progress value='92' class='' max='5945' style='width:300px; height:20px; vertical-align: middle;'></progress>\n",
       "      1.55% [92/5945 02:03<2:11:00 2.2328]\n",
       "    </div>\n",
       "    "
      ],
      "text/plain": [
       "<IPython.core.display.HTML object>"
      ]
     },
     "metadata": {},
     "output_type": "display_data"
    },
    {
     "name": "stdout",
     "output_type": "stream",
     "text": [
      "LR Finder is complete, type {learner_name}.recorder.plot() to see the graph.\n",
      "Min numerical gradient: 7.59E-07\n",
      "Min loss divided by 10: 1.91E-03\n"
     ]
    },
    {
     "data": {
      "image/png": "[encoded data removed]",
      "text/plain": [
       "<Figure size 432x288 with 1 Axes>"
      ]
     },
     "metadata": {
      "needs_background": "light"
     },
     "output_type": "display_data"
    }
   ],
   "source": [
    "with gpu_mem_restore_ctx():\n",
    "    learn_c.lr_find()\n",
    "learn_c.recorder.plot(suggestion=True)"
   ]
  },
  {
   "cell_type": "code",
   "execution_count": 23,
   "metadata": {},
   "outputs": [
    {
     "name": "stdout",
     "output_type": "stream",
     "text": [
      "0.001 64\n",
      "0.01\n"
     ]
    }
   ],
   "source": [
    "lr = 1e-3\n",
    "print(lr, bs)\n",
    "wd = WD\n",
    "print(wd)"
   ]
  },
  {
   "cell_type": "code",
   "execution_count": 24,
   "metadata": {},
   "outputs": [],
   "source": [
    "nome = f'tmp/{CODIGO_EXPERIMENTO}-{METODO}-{TAREFA}-{LOSSFUNC}-{EPOCHS}-{WD}-{lr}-{DATASET}-bwd'\n"
   ]
  },
  {
   "cell_type": "code",
   "execution_count": 25,
   "metadata": {},
   "outputs": [
    {
     "name": "stdout",
     "output_type": "stream",
     "text": [
      "tmp/ULMFiT-backward-ulmfit-predict_appeals-weighted-xentropy-20-0.01-0.001-JEF-5anos-bwd\n"
     ]
    }
   ],
   "source": [
    "callbacks=[SaveModelCallback(learn_c, monitor='mcc', name=nome, mode='max')]\n",
    "print(nome)"
   ]
  },
  {
   "cell_type": "code",
   "execution_count": 26,
   "metadata": {},
   "outputs": [],
   "source": [
    "learn_c.freeze();\n"
   ]
  },
  {
   "cell_type": "code",
   "execution_count": 27,
   "metadata": {},
   "outputs": [
    {
     "data": {
      "text/html": [
       "<table border=\"1\" class=\"dataframe\">\n",
       "  <thead>\n",
       "    <tr style=\"text-align: left;\">\n",
       "      <th>epoch</th>\n",
       "      <th>train_loss</th>\n",
       "      <th>valid_loss</th>\n",
       "      <th>accuracy</th>\n",
       "      <th>error_rate</th>\n",
       "      <th>mcc</th>\n",
       "      <th>time</th>\n",
       "    </tr>\n",
       "  </thead>\n",
       "  <tbody>\n",
       "    <tr>\n",
       "      <td>0</td>\n",
       "      <td>0.586274</td>\n",
       "      <td>0.601628</td>\n",
       "      <td>0.715373</td>\n",
       "      <td>0.284627</td>\n",
       "      <td>0.254723</td>\n",
       "      <td>25:04</td>\n",
       "    </tr>\n",
       "    <tr>\n",
       "      <td>1</td>\n",
       "      <td>0.571842</td>\n",
       "      <td>0.573605</td>\n",
       "      <td>0.682285</td>\n",
       "      <td>0.317715</td>\n",
       "      <td>0.276160</td>\n",
       "      <td>28:45</td>\n",
       "    </tr>\n",
       "    <tr>\n",
       "      <td>2</td>\n",
       "      <td>0.561613</td>\n",
       "      <td>0.574383</td>\n",
       "      <td>0.734131</td>\n",
       "      <td>0.265869</td>\n",
       "      <td>0.280001</td>\n",
       "      <td>28:33</td>\n",
       "    </tr>\n",
       "    <tr>\n",
       "      <td>3</td>\n",
       "      <td>0.549267</td>\n",
       "      <td>0.572235</td>\n",
       "      <td>0.721765</td>\n",
       "      <td>0.278235</td>\n",
       "      <td>0.284640</td>\n",
       "      <td>28:44</td>\n",
       "    </tr>\n",
       "  </tbody>\n",
       "</table>"
      ],
      "text/plain": [
       "<IPython.core.display.HTML object>"
      ]
     },
     "metadata": {},
     "output_type": "display_data"
    },
    {
     "name": "stdout",
     "output_type": "stream",
     "text": [
      "Better model found at epoch 0 with mcc value: 0.25472348035733405.\n",
      "Better model found at epoch 1 with mcc value: 0.2761604786461084.\n",
      "Better model found at epoch 2 with mcc value: 0.28000086124763474.\n",
      "Better model found at epoch 3 with mcc value: 0.28463972157252626.\n"
     ]
    }
   ],
   "source": [
    "with gpu_mem_restore_ctx():    \n",
    "    learn_c.fit_one_cycle(int(EPOCHS*0.2), lr, wd=wd,\n",
    "                          moms=(0.8,0.7),\n",
    "                          callbacks=callbacks)"
   ]
  },
  {
   "cell_type": "code",
   "execution_count": 28,
   "metadata": {},
   "outputs": [],
   "source": [
    "n = 1\n",
    "learn_c.load(nome);\n",
    "learn_c.save(f'{nome}_{n}')\n"
   ]
  },
  {
   "cell_type": "code",
   "execution_count": 29,
   "metadata": {},
   "outputs": [
    {
     "data": {
      "text/html": [
       "<table border=\"1\" class=\"dataframe\">\n",
       "  <thead>\n",
       "    <tr style=\"text-align: left;\">\n",
       "      <th>epoch</th>\n",
       "      <th>train_loss</th>\n",
       "      <th>valid_loss</th>\n",
       "      <th>accuracy</th>\n",
       "      <th>error_rate</th>\n",
       "      <th>mcc</th>\n",
       "      <th>time</th>\n",
       "    </tr>\n",
       "  </thead>\n",
       "  <tbody>\n",
       "    <tr>\n",
       "      <td>0</td>\n",
       "      <td>0.560226</td>\n",
       "      <td>0.566386</td>\n",
       "      <td>0.691991</td>\n",
       "      <td>0.308009</td>\n",
       "      <td>0.294895</td>\n",
       "      <td>32:18</td>\n",
       "    </tr>\n",
       "    <tr>\n",
       "      <td>1</td>\n",
       "      <td>0.557415</td>\n",
       "      <td>0.574062</td>\n",
       "      <td>0.729782</td>\n",
       "      <td>0.270218</td>\n",
       "      <td>0.289035</td>\n",
       "      <td>30:21</td>\n",
       "    </tr>\n",
       "    <tr>\n",
       "      <td>2</td>\n",
       "      <td>0.535193</td>\n",
       "      <td>0.562215</td>\n",
       "      <td>0.720652</td>\n",
       "      <td>0.279348</td>\n",
       "      <td>0.305985</td>\n",
       "      <td>33:56</td>\n",
       "    </tr>\n",
       "    <tr>\n",
       "      <td>3</td>\n",
       "      <td>0.519946</td>\n",
       "      <td>0.562769</td>\n",
       "      <td>0.732611</td>\n",
       "      <td>0.267389</td>\n",
       "      <td>0.306817</td>\n",
       "      <td>31:31</td>\n",
       "    </tr>\n",
       "  </tbody>\n",
       "</table>"
      ],
      "text/plain": [
       "<IPython.core.display.HTML object>"
      ]
     },
     "metadata": {},
     "output_type": "display_data"
    },
    {
     "name": "stdout",
     "output_type": "stream",
     "text": [
      "Better model found at epoch 0 with mcc value: 0.29489503678628537.\n",
      "Better model found at epoch 2 with mcc value: 0.30598466127004453.\n",
      "Better model found at epoch 3 with mcc value: 0.3068165909719804.\n"
     ]
    }
   ],
   "source": [
    "learn_c.freeze_to(-2)\n",
    "\n",
    "with gpu_mem_restore_ctx():\n",
    "    learn_c.fit_one_cycle(int(EPOCHS*0.2), slice(lr/(2.6**4),lr), wd=wd,\n",
    "                          moms=(0.8,0.7),\n",
    "                          callbacks=callbacks)"
   ]
  },
  {
   "cell_type": "code",
   "execution_count": 30,
   "metadata": {},
   "outputs": [],
   "source": [
    "n = 2\n",
    "learn_c.load(nome);\n",
    "learn_c.save(f'{nome}_{n}')\n"
   ]
  },
  {
   "cell_type": "code",
   "execution_count": 31,
   "metadata": {},
   "outputs": [
    {
     "data": {
      "text/html": [
       "<table border=\"1\" class=\"dataframe\">\n",
       "  <thead>\n",
       "    <tr style=\"text-align: left;\">\n",
       "      <th>epoch</th>\n",
       "      <th>train_loss</th>\n",
       "      <th>valid_loss</th>\n",
       "      <th>accuracy</th>\n",
       "      <th>error_rate</th>\n",
       "      <th>mcc</th>\n",
       "      <th>time</th>\n",
       "    </tr>\n",
       "  </thead>\n",
       "  <tbody>\n",
       "    <tr>\n",
       "      <td>0</td>\n",
       "      <td>0.528374</td>\n",
       "      <td>0.567322</td>\n",
       "      <td>0.707330</td>\n",
       "      <td>0.292670</td>\n",
       "      <td>0.304636</td>\n",
       "      <td>41:32</td>\n",
       "    </tr>\n",
       "    <tr>\n",
       "      <td>1</td>\n",
       "      <td>0.516440</td>\n",
       "      <td>0.567727</td>\n",
       "      <td>0.726127</td>\n",
       "      <td>0.273873</td>\n",
       "      <td>0.302138</td>\n",
       "      <td>44:19</td>\n",
       "    </tr>\n",
       "    <tr>\n",
       "      <td>2</td>\n",
       "      <td>0.504793</td>\n",
       "      <td>0.565943</td>\n",
       "      <td>0.727555</td>\n",
       "      <td>0.272445</td>\n",
       "      <td>0.304480</td>\n",
       "      <td>40:07</td>\n",
       "    </tr>\n",
       "    <tr>\n",
       "      <td>3</td>\n",
       "      <td>0.494227</td>\n",
       "      <td>0.565248</td>\n",
       "      <td>0.740994</td>\n",
       "      <td>0.259006</td>\n",
       "      <td>0.309881</td>\n",
       "      <td>37:33</td>\n",
       "    </tr>\n",
       "  </tbody>\n",
       "</table>"
      ],
      "text/plain": [
       "<IPython.core.display.HTML object>"
      ]
     },
     "metadata": {},
     "output_type": "display_data"
    },
    {
     "name": "stdout",
     "output_type": "stream",
     "text": [
      "Better model found at epoch 0 with mcc value: 0.30463608205819587.\n",
      "Better model found at epoch 3 with mcc value: 0.3098811004842627.\n"
     ]
    }
   ],
   "source": [
    "learn_c.freeze_to(-3)\n",
    "\n",
    "with gpu_mem_restore_ctx():\n",
    "    learn_c.fit_one_cycle(int(EPOCHS*0.2), slice(lr/2/(2.6**4),lr/2), wd=wd,\n",
    "                          moms=(0.8,0.7),\n",
    "                          callbacks=callbacks)"
   ]
  },
  {
   "cell_type": "code",
   "execution_count": 32,
   "metadata": {},
   "outputs": [],
   "source": [
    "n = 3\n",
    "learn_c.load(nome);\n",
    "learn_c.save(f'{nome}_{n}')\n"
   ]
  },
  {
   "cell_type": "code",
   "execution_count": 33,
   "metadata": {},
   "outputs": [
    {
     "data": {
      "text/html": [
       "<table border=\"1\" class=\"dataframe\">\n",
       "  <thead>\n",
       "    <tr style=\"text-align: left;\">\n",
       "      <th>epoch</th>\n",
       "      <th>train_loss</th>\n",
       "      <th>valid_loss</th>\n",
       "      <th>accuracy</th>\n",
       "      <th>error_rate</th>\n",
       "      <th>mcc</th>\n",
       "      <th>time</th>\n",
       "    </tr>\n",
       "  </thead>\n",
       "  <tbody>\n",
       "    <tr>\n",
       "      <td>0</td>\n",
       "      <td>0.501411</td>\n",
       "      <td>0.560549</td>\n",
       "      <td>0.727044</td>\n",
       "      <td>0.272956</td>\n",
       "      <td>0.308652</td>\n",
       "      <td>47:04</td>\n",
       "    </tr>\n",
       "    <tr>\n",
       "      <td>1</td>\n",
       "      <td>0.494944</td>\n",
       "      <td>0.557296</td>\n",
       "      <td>0.713880</td>\n",
       "      <td>0.286120</td>\n",
       "      <td>0.311925</td>\n",
       "      <td>55:59</td>\n",
       "    </tr>\n",
       "    <tr>\n",
       "      <td>2</td>\n",
       "      <td>0.502906</td>\n",
       "      <td>0.565659</td>\n",
       "      <td>0.731079</td>\n",
       "      <td>0.268921</td>\n",
       "      <td>0.309828</td>\n",
       "      <td>55:19</td>\n",
       "    </tr>\n",
       "    <tr>\n",
       "      <td>3</td>\n",
       "      <td>0.502014</td>\n",
       "      <td>0.577454</td>\n",
       "      <td>0.743758</td>\n",
       "      <td>0.256242</td>\n",
       "      <td>0.306808</td>\n",
       "      <td>48:44</td>\n",
       "    </tr>\n",
       "    <tr>\n",
       "      <td>4</td>\n",
       "      <td>0.488958</td>\n",
       "      <td>0.560546</td>\n",
       "      <td>0.714011</td>\n",
       "      <td>0.285989</td>\n",
       "      <td>0.312092</td>\n",
       "      <td>51:41</td>\n",
       "    </tr>\n",
       "    <tr>\n",
       "      <td>5</td>\n",
       "      <td>0.496800</td>\n",
       "      <td>0.564126</td>\n",
       "      <td>0.716434</td>\n",
       "      <td>0.283566</td>\n",
       "      <td>0.309760</td>\n",
       "      <td>47:07</td>\n",
       "    </tr>\n",
       "    <tr>\n",
       "      <td>6</td>\n",
       "      <td>0.502265</td>\n",
       "      <td>0.563196</td>\n",
       "      <td>0.718058</td>\n",
       "      <td>0.281942</td>\n",
       "      <td>0.309546</td>\n",
       "      <td>51:30</td>\n",
       "    </tr>\n",
       "    <tr>\n",
       "      <td>7</td>\n",
       "      <td>0.490583</td>\n",
       "      <td>0.566266</td>\n",
       "      <td>0.729546</td>\n",
       "      <td>0.270454</td>\n",
       "      <td>0.311595</td>\n",
       "      <td>49:48</td>\n",
       "    </tr>\n",
       "  </tbody>\n",
       "</table>"
      ],
      "text/plain": [
       "<IPython.core.display.HTML object>"
      ]
     },
     "metadata": {},
     "output_type": "display_data"
    },
    {
     "name": "stdout",
     "output_type": "stream",
     "text": [
      "Better model found at epoch 0 with mcc value: 0.30865193790576995.\n",
      "Better model found at epoch 1 with mcc value: 0.3119247682419033.\n",
      "Better model found at epoch 4 with mcc value: 0.3120918293400297.\n"
     ]
    }
   ],
   "source": [
    "with gpu_mem_restore_ctx():\n",
    "    learn_c.unfreeze()\n",
    "    learn_c.fit_one_cycle(int(EPOCHS*0.4), slice(lr/10/(2.6**4),lr/10), wd=wd,\n",
    "                          moms=(0.8,0.7),\n",
    "                          callbacks=callbacks)\n"
   ]
  },
  {
   "cell_type": "code",
   "execution_count": 34,
   "metadata": {},
   "outputs": [],
   "source": [
    "n = 4\n",
    "learn_c.load(nome);\n",
    "learn_c.save(f'{nome}_{n}')\n"
   ]
  },
  {
   "cell_type": "code",
   "execution_count": 36,
   "metadata": {},
   "outputs": [],
   "source": [
    "learn_c.load(f'{nome}_{4}');\n"
   ]
  },
  {
   "cell_type": "code",
   "execution_count": 37,
   "metadata": {},
   "outputs": [],
   "source": [
    "from sklearn.metrics import matthews_corrcoef"
   ]
  },
  {
   "cell_type": "code",
   "execution_count": 39,
   "metadata": {},
   "outputs": [
    {
     "data": {
      "text/html": [],
      "text/plain": [
       "<IPython.core.display.HTML object>"
      ]
     },
     "metadata": {},
     "output_type": "display_data"
    },
    {
     "name": "stdout",
     "output_type": "stream",
     "text": [
      "BAC:          0.6533\n",
      "F1-WEIGHTED:  0.6929\n",
      "F1-MICRO:     0.7140\n",
      "F1-MACRO:     0.6578\n",
      "F1-BINARY:    0.5190\n",
      "BAC ADJUSTED: 0.3065\n",
      "MCC:        0.3573\n"
     ]
    }
   ],
   "source": [
    "preds, y= learn_c.get_preds(with_loss=False, ordered=True)\n",
    "predictions = np.argmax(preds, axis = 1)\n",
    "\n",
    "print(f'BAC:          {balanced_accuracy_score(predictions, y):.4f}')\n",
    "print(f'F1-WEIGHTED:  {f1_score(predictions, y, average=\"weighted\"):.4f}')\n",
    "print(f'F1-MICRO:     {f1_score(predictions, y, average=\"micro\"):.4f}')\n",
    "print(f'F1-MACRO:     {f1_score(predictions, y, average=\"macro\"):.4f}')\n",
    "print(f'F1-BINARY:    {f1_score(predictions, y, average=\"binary\"):.4f}')\n",
    "print(f'BAC ADJUSTED: {balanced_accuracy_score(predictions, y, adjusted=True):.4f}')\n",
    "print(f'MCC:        {matthews_corrcoef(predictions, y):.4f}')"
   ]
  },
  {
   "cell_type": "code",
   "execution_count": 41,
   "metadata": {},
   "outputs": [
    {
     "name": "stdout",
     "output_type": "stream",
     "text": [
      "\n",
      "\n",
      "               precision    recall  f1-score   support\n",
      "\n",
      "           0       0.72      0.89      0.80     47829\n",
      "           1       0.70      0.41      0.52     28513\n",
      "\n",
      "    accuracy                           0.71     76342\n",
      "   macro avg       0.71      0.65      0.66     76342\n",
      "weighted avg       0.71      0.71      0.69     76342\n",
      "\n",
      "\n",
      "\n",
      " [[42728  5101]\n",
      " [16732 11781]]\n"
     ]
    }
   ],
   "source": [
    "from sklearn.metrics import classification_report , confusion_matrix\n",
    "print('\\n\\n', classification_report(predictions, y))\n",
    "print('\\n\\n', confusion_matrix(predictions, y))"
   ]
  },
  {
   "cell_type": "code",
   "execution_count": 43,
   "metadata": {},
   "outputs": [],
   "source": [
    "learn_c.model._forward_hooks = OrderedDict()"
   ]
  },
  {
   "cell_type": "code",
   "execution_count": 44,
   "metadata": {},
   "outputs": [],
   "source": [
    "learn_c.metric = list()"
   ]
  },
  {
   "cell_type": "code",
   "execution_count": 48,
   "metadata": {},
   "outputs": [],
   "source": [
    "learn_c.to_fp32().export(save_path / f'ulmfit_backward_exported')\n",
    "# experiment.stop()"
   ]
  }
 ],
 "metadata": {
  "kernelspec": {
   "display_name": "venv_paper_jef",
   "language": "python",
   "name": "venv_paper_jef"
  },
  "language_info": {
   "codemirror_mode": {
    "name": "ipython",
    "version": 3
   },
   "file_extension": ".py",
   "mimetype": "text/x-python",
   "name": "python",
   "nbconvert_exporter": "python",
   "pygments_lexer": "ipython3",
   "version": "3.8.10"
  }
 },
 "nbformat": 4,
 "nbformat_minor": 4
}
