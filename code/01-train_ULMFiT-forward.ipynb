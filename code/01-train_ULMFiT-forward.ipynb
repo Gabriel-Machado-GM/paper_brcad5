{
 "cells": [
  {
   "cell_type": "code",
   "execution_count": 1,
   "metadata": {},
   "outputs": [],
   "source": [
    "import os\n",
    "\n",
    "CODIGO_EXPERIMENTO = 'ULMFiT-backward'\n",
    "TAREFA = 'predict_appeals'\n",
    "METODO = 'ulmfit'\n",
    "LOSSFUNC = 'weighted-xentropy'\n",
    "SENTIDO = 'fwd'\n",
    "TREINAMENTO = 'gradual'\n",
    "DATASET = 'JEF-5anos'\n",
    "EPOCHS = 20\n",
    "WD = 0.01\n",
    "NOME_RUNNING = f'01-{CODIGO_EXPERIMENTO}-{METODO}-{TAREFA}-{LOSSFUNC}-{EPOCHS}-{WD}-{DATASET}'\n",
    "os.environ['WANDB_NOTEBOOK_NAME'] = f'{TAREFA}-{METODO}-{LOSSFUNC}-{EPOCHS}epochs-{TREINAMENTO}-{DATASET}.ipynb'\n",
    "config = {'epochs': EPOCHS, 'wd': WD, 'dataset': DATASET, 'lossfunc': LOSSFUNC }\n",
    "\n",
    "import IPython\n",
    "from fastai import *\n",
    "from fastai.text import *\n",
    "from fastai.callbacks import *\n",
    "from multiprocessing import cpu_count\n",
    "from fastai.utils.ipython import * \n",
    "from fastai.basics import *\n",
    "import re\n",
    "import warnings\n",
    "import wandb\n",
    "from fastai.metrics import *\n",
    "from fastai.metrics import CMScores\n",
    "from sklearn.metrics import balanced_accuracy_score\n",
    "from sklearn.metrics import f1_score\n",
    "from sklearn.metrics import matthews_corrcoef\n",
    "from datetime import datetime, timedelta\n",
    "\n",
    "%matplotlib inline"
   ]
  },
  {
   "cell_type": "code",
   "execution_count": 2,
   "metadata": {},
   "outputs": [],
   "source": [
    "def random_seed(seed_value, use_cuda):\n",
    "    np.random.seed(seed_value) # cpu vars\n",
    "    torch.manual_seed(seed_value) # cpu  vars\n",
    "    random.seed(seed_value) # Python\n",
    "    if use_cuda: \n",
    "        torch.cuda.manual_seed(seed_value)\n",
    "        torch.cuda.manual_seed_all(seed_value) # gpu vars\n",
    "        torch.backends.cudnn.deterministic = True  #needed\n",
    "        torch.backends.cudnn.benchmark = False\n",
    "random_seed(314, True)"
   ]
  },
  {
   "cell_type": "code",
   "execution_count": 3,
   "metadata": {},
   "outputs": [],
   "source": [
    "@np_func\n",
    "def f1micro(inp,targ): return f1_score(targ, np.argmax(inp, axis=-1), average='micro')\n",
    "\n",
    "@np_func\n",
    "def f1macro(inp,targ): return f1_score(targ, np.argmax(inp, axis=-1), average='macro')\n",
    "\n",
    "@np_func\n",
    "def f1weighted(inp,targ): return f1_score(targ, np.argmax(inp, axis=-1), average='weighted')\n",
    "\n",
    "@np_func\n",
    "def bacca(inp,targ): return balanced_accuracy_score(targ, np.argmax(inp, axis=-1), adjusted=True) #0 random 1 perfect\n",
    "\n",
    "@np_func\n",
    "def bacc(inp,targ): return balanced_accuracy_score(targ, np.argmax(inp, axis=-1), adjusted=False) # 1 perfect\n",
    "\n",
    "@np_func\n",
    "def f1binary(inp,targ): return f1_score(targ, np.argmax(inp, axis=-1), average='binary')\n",
    "\n",
    "@np_func\n",
    "def mcc(inp,targ): return matthews_corrcoef(targ, np.argmax(inp, axis=-1))"
   ]
  },
  {
   "cell_type": "code",
   "execution_count": 4,
   "metadata": {},
   "outputs": [
    {
     "name": "stdout",
     "output_type": "stream",
     "text": [
      "/media/jacob/data4/jefs5/paper/code\n"
     ]
    }
   ],
   "source": [
    "bs = 64\n",
    "data_path = Path(os.getcwd())\n",
    "print(data_path)"
   ]
  },
  {
   "cell_type": "code",
   "execution_count": 5,
   "metadata": {},
   "outputs": [],
   "source": [
    "lang = 'pt'\n",
    "#name = f'{lang}wiki'\n",
    "path = data_path\n",
    "path.mkdir(exist_ok=True, parents=True)\n",
    "modelsdir = Path('general_portuguese_language_models/ulmfit/')\n",
    "\n",
    "lm_fns2_fwd = [f'{modelsdir}/{lang}_wt_60k_ulmfit_fwd', f'{modelsdir}/{lang}_wt_vocab_60k_ulmfit_fwd']\n",
    "lm_fns2_bwd = [f'{modelsdir}/{lang}_wt_60k_ulmfit_bwd', f'{modelsdir}/{lang}_wt_vocab_60k_ulmfit_bwd']"
   ]
  },
  {
   "cell_type": "code",
   "execution_count": 6,
   "metadata": {},
   "outputs": [],
   "source": [
    "torch.cuda.set_device(1)"
   ]
  },
  {
   "cell_type": "code",
   "execution_count": 7,
   "metadata": {},
   "outputs": [],
   "source": [
    "import warnings\n",
    "warnings.filterwarnings('ignore')  "
   ]
  },
  {
   "cell_type": "code",
   "execution_count": 8,
   "metadata": {},
   "outputs": [],
   "source": [
    "dir_databunch = path / 'databunch_ulmfit'\n",
    "dir_databunch.mkdir(exist_ok=True, parents=True)"
   ]
  },
  {
   "cell_type": "code",
   "execution_count": 9,
   "metadata": {},
   "outputs": [],
   "source": [
    "save_path = path / 'saved_models_ulmfit'\n",
    "save_path.mkdir(exist_ok=True, parents=True)"
   ]
  },
  {
   "cell_type": "code",
   "execution_count": 10,
   "metadata": {},
   "outputs": [],
   "source": [
    "df_train = pd.read_parquet('../data/train_en.parquet')\n",
    "df_valid = pd.read_parquet('../data/valid_en.parquet')\n"
   ]
  },
  {
   "cell_type": "code",
   "execution_count": 11,
   "metadata": {},
   "outputs": [
    {
     "data": {
      "text/plain": [
       "0    2018-03-26 17:02:04\n",
       "1    2018-03-26 17:02:45\n",
       "2    2018-03-26 17:07:16\n",
       "3    2018-03-26 17:07:16\n",
       "4    2018-03-26 17:07:16\n",
       "5    2018-03-26 17:07:16\n",
       "6    2018-03-26 17:07:16\n",
       "7    2018-03-26 17:07:16\n",
       "8    2018-03-26 17:07:16\n",
       "9    2018-03-26 17:07:16\n",
       "Name: date_appeal_panel_ruling, dtype: object"
      ]
     },
     "execution_count": 11,
     "metadata": {},
     "output_type": "execute_result"
    }
   ],
   "source": [
    "df_valid.date_appeal_panel_ruling.head(10)"
   ]
  },
  {
   "cell_type": "code",
   "execution_count": 12,
   "metadata": {},
   "outputs": [
    {
     "name": "stdout",
     "output_type": "stream",
     "text": [
      "Previous size of training data: 612961. Selecting only last 5 years of the training dataset\n",
      "New size of training data: 380526\n"
     ]
    }
   ],
   "source": [
    "print(f'Previous size of training data: {len(df_train)}. Selecting only last 5 years of the training dataset')\n",
    "df_train.date_appeal_panel_ruling = pd.to_datetime(df_train.date_appeal_panel_ruling, infer_datetime_format=True, yearfirst=True, dayfirst=False)\n",
    "thresh = df_train.date_appeal_panel_ruling.max() - timedelta(days=365*5)\n",
    "df_train = df_train[df_train.date_appeal_panel_ruling >= thresh].copy()\n",
    "print(f'New size of training data: {len(df_train)}')"
   ]
  },
  {
   "cell_type": "code",
   "execution_count": 13,
   "metadata": {},
   "outputs": [],
   "source": [
    "df_train['is_valid'] = False\n",
    "df_valid['is_valid'] = True"
   ]
  },
  {
   "cell_type": "code",
   "execution_count": 14,
   "metadata": {},
   "outputs": [],
   "source": [
    "df = df_train.append(df_valid).copy()"
   ]
  },
  {
   "cell_type": "code",
   "execution_count": 15,
   "metadata": {},
   "outputs": [
    {
     "data": {
      "text/plain": [
       "0"
      ]
     },
     "execution_count": 15,
     "metadata": {},
     "output_type": "execute_result"
    }
   ],
   "source": [
    "import gc\n",
    "del(df_train)\n",
    "del(df_valid)\n",
    "gc.collect()"
   ]
  },
  {
   "cell_type": "code",
   "execution_count": 16,
   "metadata": {},
   "outputs": [
    {
     "name": "stdout",
     "output_type": "stream",
     "text": [
      "(456868, 37)\n"
     ]
    }
   ],
   "source": [
    "print(df.shape)\n"
   ]
  },
  {
   "cell_type": "code",
   "execution_count": 17,
   "metadata": {},
   "outputs": [
    {
     "data": {
      "text/plain": [
       "NÃO PROVIMENTO    356907\n",
       "PROVIMENTO         99961\n",
       "Name: label, dtype: int64"
      ]
     },
     "execution_count": 17,
     "metadata": {},
     "output_type": "execute_result"
    }
   ],
   "source": [
    "df.label.value_counts()"
   ]
  },
  {
   "cell_type": "code",
   "execution_count": 18,
   "metadata": {},
   "outputs": [],
   "source": [
    "import joblib\n"
   ]
  },
  {
   "cell_type": "code",
   "execution_count": 19,
   "metadata": {},
   "outputs": [],
   "source": [
    "with open(path / 'general_portuguese_language_models/ulmfit/vocab-fwd.joblib', \"rb\") as f:\n",
    "    vocab = joblib.load(f)"
   ]
  },
  {
   "cell_type": "code",
   "execution_count": 20,
   "metadata": {},
   "outputs": [
    {
     "data": {
      "text/plain": [
       "0"
      ]
     },
     "execution_count": 20,
     "metadata": {},
     "output_type": "execute_result"
    }
   ],
   "source": [
    "import gc\n",
    "gc.collect()"
   ]
  },
  {
   "cell_type": "code",
   "execution_count": 21,
   "metadata": {},
   "outputs": [
    {
     "data": {
      "text/html": [],
      "text/plain": [
       "<IPython.core.display.HTML object>"
      ]
     },
     "metadata": {},
     "output_type": "display_data"
    },
    {
     "data": {
      "text/html": [],
      "text/plain": [
       "<IPython.core.display.HTML object>"
      ]
     },
     "metadata": {},
     "output_type": "display_data"
    },
    {
     "name": "stdout",
     "output_type": "stream",
     "text": [
      "CPU times: user 5min 5s, sys: 8min 5s, total: 13min 11s\n",
      "Wall time: 17min 12s\n"
     ]
    }
   ],
   "source": [
    "%%time\n",
    "data_clas = (TextList.from_df(df, path, vocab=vocab, cols='preprocessed_full_text_first_instance_court_ruling')\n",
    "    .split_from_df('is_valid')\n",
    "    .label_from_df(cols='label')\n",
    "    .databunch(bs=bs, num_workers=14, backwards=False))"
   ]
  },
  {
   "cell_type": "code",
   "execution_count": 22,
   "metadata": {},
   "outputs": [
    {
     "name": "stdout",
     "output_type": "stream",
     "text": [
      "CPU times: user 35.7 s, sys: 34.7 s, total: 1min 10s\n",
      "Wall time: 1min 34s\n"
     ]
    }
   ],
   "source": [
    "%%time\n",
    "data_clas.save(dir_databunch / f'{CODIGO_EXPERIMENTO}_textlist_{TAREFA}_60k_ulmfit_fwd')"
   ]
  },
  {
   "cell_type": "markdown",
   "metadata": {},
   "source": [
    "## Restarting notebook to release memory\n",
    "### Rerun cells 1 to 9 before proceeding"
   ]
  },
  {
   "cell_type": "code",
   "execution_count": 10,
   "metadata": {},
   "outputs": [
    {
     "name": "stdout",
     "output_type": "stream",
     "text": [
      "CPU times: user 2min 13s, sys: 22.2 s, total: 2min 35s\n",
      "Wall time: 2min 56s\n"
     ]
    }
   ],
   "source": [
    "%%time\n",
    "bs = 64\n",
    "data_clas = load_data(dir_databunch, f'{CODIGO_EXPERIMENTO}_textlist_{TAREFA}_60k_ulmfit_fwd', bs=bs, num_workers=1, backwards=False)"
   ]
  },
  {
   "cell_type": "code",
   "execution_count": 11,
   "metadata": {},
   "outputs": [
    {
     "data": {
      "text/html": [
       "<table border=\"1\" class=\"dataframe\">\n",
       "  <thead>\n",
       "    <tr style=\"text-align: right;\">\n",
       "      <th>text</th>\n",
       "      <th>target</th>\n",
       "    </tr>\n",
       "  </thead>\n",
       "  <tbody>\n",
       "    <tr>\n",
       "      <td>xxbos xxup autor : xxup xxunk xxup levi xxup viana xxup de xxup oliveira xxup réu : xxup instituto xxup nacional xxup de xxup seguro xxup social - xxup inss xxup sentença xxmaj trata - se de ação de rito sumaríssimo na qual se postula a concessão de benefício de aposentadoria especial ou por tempo de contribuição e o pagamento de diferenças devidas a esse título . xxmaj dispensado relatório</td>\n",
       "      <td>NÃO PROVIMENTO</td>\n",
       "    </tr>\n",
       "    <tr>\n",
       "      <td>xxbos xxup previdenciário . xxup aposentadoria xxup por xxup tempo xxup de xxup serviço / xxup contribuição . xxup ii . xxup conversão xxup de xxup tempo xxup de xxup serviço xxup especial xxup em xxup comum . xxup vínculos xxup como xxup forneiro e xxup pintor . xxup exigência xxup de xxup comprovação xxup da xxup habitualidade e xxup permanência xxup do xxup serviço . xxup iii . xxup</td>\n",
       "      <td>PROVIMENTO</td>\n",
       "    </tr>\n",
       "    <tr>\n",
       "      <td>xxbos xxup autor ( xxup xxunk xxup costa xxup da xxup silva xxup réu : xxup inss - xxmaj instituto xxmaj nacional do xxmaj seguro xxmaj social xxup sentença xxmaj trata - se de ação de rito sumaríssimo , na qual se postula a concessão de benefício de aposentadoria especial , subsidiariamente , aposentadoria por tempo de contribuição , bem como o pagamento de diferenças retroativas devidas a esse título</td>\n",
       "      <td>PROVIMENTO</td>\n",
       "    </tr>\n",
       "    <tr>\n",
       "      <td>xxbos xxup autor : xxup cícero xxup faustino xxup de xxup oliveira xxup réu : xxup inss – xxup instituto xxup nacional xxup do xxup seguro xxup social xxup sentença xxmaj trata - se de ação ajuizada contra xxup inss – xxmaj instituto xxmaj nacional do xxmaj seguro xxmaj social , na qual postula a concessão do benefício de aposentadoria por tempo de contribuição com conversão de tempo especial em</td>\n",
       "      <td>NÃO PROVIMENTO</td>\n",
       "    </tr>\n",
       "    <tr>\n",
       "      <td>xxbos xxup autor ( xxup xxunk xxup valério xxup de xxup lima xxup réu : xxup inss - xxmaj instituto xxmaj nacional do xxmaj seguro xxmaj social xxup sentença xxmaj trata - se de ação de rito sumaríssimo , na qual se postula a concessão de benefício de aposentadoria por tempo de contribuição , bem como o pagamento de diferenças retroativas devidas a esse título . a título de esclarecimento</td>\n",
       "      <td>NÃO PROVIMENTO</td>\n",
       "    </tr>\n",
       "  </tbody>\n",
       "</table>"
      ],
      "text/plain": [
       "<IPython.core.display.HTML object>"
      ]
     },
     "metadata": {},
     "output_type": "display_data"
    }
   ],
   "source": [
    "data_clas.show_batch()"
   ]
  },
  {
   "cell_type": "code",
   "execution_count": 12,
   "metadata": {},
   "outputs": [],
   "source": [
    "all_metrics = [accuracy, error_rate, mcc]\n",
    "learn_c = text_classifier_learner(data_clas, AWD_LSTM, pretrained=False, drop_mult=0.3, \n",
    "                                  metrics=all_metrics, lin_ftrs=[100]).to_fp16()"
   ]
  },
  {
   "cell_type": "code",
   "execution_count": 13,
   "metadata": {},
   "outputs": [],
   "source": [
    "learn_c.load_encoder(path / 'legal_portuguese_language_models/05-2020_fine_tuned_enc_lm_sentencas_60k_ulmfit_fwd');"
   ]
  },
  {
   "cell_type": "code",
   "execution_count": 14,
   "metadata": {},
   "outputs": [
    {
     "data": {
      "text/plain": [
       "FlattenedLoss of CrossEntropyLoss()"
      ]
     },
     "execution_count": 14,
     "metadata": {},
     "output_type": "execute_result"
    }
   ],
   "source": [
    "learn_c.loss_func"
   ]
  },
  {
   "cell_type": "markdown",
   "metadata": {},
   "source": [
    "## Get weights to penalize loss function of the majority class"
   ]
  },
  {
   "cell_type": "code",
   "execution_count": 15,
   "metadata": {},
   "outputs": [
    {
     "data": {
      "text/plain": [
       "(380526, 76342, 456868)"
      ]
     },
     "execution_count": 15,
     "metadata": {},
     "output_type": "execute_result"
    }
   ],
   "source": [
    "num_trn = len(data_clas.train_ds.x)\n",
    "num_val = len(data_clas.valid_ds.x)\n",
    "num_trn, num_val, num_trn+num_val"
   ]
  },
  {
   "cell_type": "code",
   "execution_count": 16,
   "metadata": {},
   "outputs": [
    {
     "data": {
      "text/plain": [
       "(array([297447,  83079]), array([59460, 16882]))"
      ]
     },
     "execution_count": 16,
     "metadata": {},
     "output_type": "execute_result"
    }
   ],
   "source": [
    "trn_LabelCounts = np.unique(data_clas.train_ds.y.items, return_counts=True)[1]\n",
    "val_LabelCounts = np.unique(data_clas.valid_ds.y.items, return_counts=True)[1]\n",
    "trn_LabelCounts, val_LabelCounts"
   ]
  },
  {
   "cell_type": "code",
   "execution_count": 17,
   "metadata": {},
   "outputs": [
    {
     "data": {
      "text/plain": [
       "([0.2183267372006118, 0.7816732627993882],\n",
       " [0.22113646485551863, 0.7788635351444815])"
      ]
     },
     "execution_count": 17,
     "metadata": {},
     "output_type": "execute_result"
    }
   ],
   "source": [
    "trn_weights = [1 - count/num_trn for count in trn_LabelCounts]\n",
    "val_weights = [1 - count/num_val for count in val_LabelCounts]\n",
    "trn_weights, val_weights"
   ]
  },
  {
   "cell_type": "code",
   "execution_count": 18,
   "metadata": {},
   "outputs": [],
   "source": [
    "loss_weights = torch.FloatTensor(trn_weights).cuda()"
   ]
  },
  {
   "cell_type": "code",
   "execution_count": 19,
   "metadata": {},
   "outputs": [],
   "source": [
    "learn_c.loss_func = CrossEntropyFlat(weight=loss_weights )"
   ]
  },
  {
   "cell_type": "code",
   "execution_count": 20,
   "metadata": {},
   "outputs": [
    {
     "data": {
      "text/plain": [
       "FlattenedLoss of CrossEntropyLoss()"
      ]
     },
     "execution_count": 20,
     "metadata": {},
     "output_type": "execute_result"
    }
   ],
   "source": [
    "learn_c.loss_func"
   ]
  },
  {
   "cell_type": "code",
   "execution_count": 21,
   "metadata": {},
   "outputs": [
    {
     "data": {
      "text/plain": [
       "tensor([0.2183, 0.7817], device='cuda:1')"
      ]
     },
     "execution_count": 21,
     "metadata": {},
     "output_type": "execute_result"
    }
   ],
   "source": [
    "learn_c.loss_func.weight"
   ]
  },
  {
   "cell_type": "code",
   "execution_count": 22,
   "metadata": {},
   "outputs": [
    {
     "data": {
      "text/html": [
       "\n",
       "    <div>\n",
       "        <style>\n",
       "            /* Turns off some styling */\n",
       "            progress {\n",
       "                /* gets rid of default border in Firefox and Opera. */\n",
       "                border: none;\n",
       "                /* Needs to be in here for Safari polyfill so background images work as expected. */\n",
       "                background-size: auto;\n",
       "            }\n",
       "            .progress-bar-interrupted, .progress-bar-interrupted::-webkit-progress-bar {\n",
       "                background: #F44336;\n",
       "            }\n",
       "        </style>\n",
       "      <progress value='0' class='' max='1' style='width:300px; height:20px; vertical-align: middle;'></progress>\n",
       "      0.00% [0/1 00:00<00:00]\n",
       "    </div>\n",
       "    \n",
       "<table border=\"1\" class=\"dataframe\">\n",
       "  <thead>\n",
       "    <tr style=\"text-align: left;\">\n",
       "      <th>epoch</th>\n",
       "      <th>train_loss</th>\n",
       "      <th>valid_loss</th>\n",
       "      <th>accuracy</th>\n",
       "      <th>error_rate</th>\n",
       "      <th>mcc</th>\n",
       "      <th>time</th>\n",
       "    </tr>\n",
       "  </thead>\n",
       "  <tbody>\n",
       "  </tbody>\n",
       "</table><p>\n",
       "\n",
       "    <div>\n",
       "        <style>\n",
       "            /* Turns off some styling */\n",
       "            progress {\n",
       "                /* gets rid of default border in Firefox and Opera. */\n",
       "                border: none;\n",
       "                /* Needs to be in here for Safari polyfill so background images work as expected. */\n",
       "                background-size: auto;\n",
       "            }\n",
       "            .progress-bar-interrupted, .progress-bar-interrupted::-webkit-progress-bar {\n",
       "                background: #F44336;\n",
       "            }\n",
       "        </style>\n",
       "      <progress value='93' class='' max='5945' style='width:300px; height:20px; vertical-align: middle;'></progress>\n",
       "      1.56% [93/5945 02:03<2:09:33 2.6721]\n",
       "    </div>\n",
       "    "
      ],
      "text/plain": [
       "<IPython.core.display.HTML object>"
      ]
     },
     "metadata": {},
     "output_type": "display_data"
    },
    {
     "name": "stdout",
     "output_type": "stream",
     "text": [
      "LR Finder is complete, type {learner_name}.recorder.plot() to see the graph.\n",
      "Min numerical gradient: 8.32E-06\n",
      "Min loss divided by 10: 6.92E-03\n"
     ]
    },
    {
     "data": {
      "image/png": "[encoded data removed]",
      "text/plain": [
       "<Figure size 432x288 with 1 Axes>"
      ]
     },
     "metadata": {
      "needs_background": "light"
     },
     "output_type": "display_data"
    }
   ],
   "source": [
    "with gpu_mem_restore_ctx():\n",
    "    learn_c.lr_find()\n",
    "learn_c.recorder.plot(suggestion=True)"
   ]
  },
  {
   "cell_type": "code",
   "execution_count": 23,
   "metadata": {},
   "outputs": [
    {
     "name": "stdout",
     "output_type": "stream",
     "text": [
      "0.001 64\n",
      "0.01\n"
     ]
    }
   ],
   "source": [
    "lr = 1e-3\n",
    "print(lr, bs)\n",
    "wd = WD\n",
    "print(wd)"
   ]
  },
  {
   "cell_type": "code",
   "execution_count": 24,
   "metadata": {},
   "outputs": [],
   "source": [
    "nome = f'tmp/{CODIGO_EXPERIMENTO}-{METODO}-{TAREFA}-{LOSSFUNC}-{EPOCHS}-{WD}-{lr}-{DATASET}-fwd'\n"
   ]
  },
  {
   "cell_type": "code",
   "execution_count": 25,
   "metadata": {},
   "outputs": [
    {
     "name": "stdout",
     "output_type": "stream",
     "text": [
      "tmp/ULMFiT-backward-ulmfit-predict_appeals-weighted-xentropy-20-0.01-0.001-JEF-5anos-fwd\n"
     ]
    }
   ],
   "source": [
    "callbacks=[SaveModelCallback(learn_c, monitor='mcc', name=nome, mode='max')]\n",
    "print(nome)"
   ]
  },
  {
   "cell_type": "code",
   "execution_count": 26,
   "metadata": {},
   "outputs": [],
   "source": [
    "learn_c.freeze();\n"
   ]
  },
  {
   "cell_type": "code",
   "execution_count": 27,
   "metadata": {},
   "outputs": [
    {
     "data": {
      "text/html": [
       "<table border=\"1\" class=\"dataframe\">\n",
       "  <thead>\n",
       "    <tr style=\"text-align: left;\">\n",
       "      <th>epoch</th>\n",
       "      <th>train_loss</th>\n",
       "      <th>valid_loss</th>\n",
       "      <th>accuracy</th>\n",
       "      <th>error_rate</th>\n",
       "      <th>mcc</th>\n",
       "      <th>time</th>\n",
       "    </tr>\n",
       "  </thead>\n",
       "  <tbody>\n",
       "    <tr>\n",
       "      <td>0</td>\n",
       "      <td>0.580981</td>\n",
       "      <td>0.644670</td>\n",
       "      <td>0.721215</td>\n",
       "      <td>0.278785</td>\n",
       "      <td>0.229738</td>\n",
       "      <td>26:52</td>\n",
       "    </tr>\n",
       "    <tr>\n",
       "      <td>1</td>\n",
       "      <td>0.552971</td>\n",
       "      <td>0.622674</td>\n",
       "      <td>0.723180</td>\n",
       "      <td>0.276820</td>\n",
       "      <td>0.260207</td>\n",
       "      <td>31:01</td>\n",
       "    </tr>\n",
       "    <tr>\n",
       "      <td>2</td>\n",
       "      <td>0.553172</td>\n",
       "      <td>0.622032</td>\n",
       "      <td>0.740824</td>\n",
       "      <td>0.259176</td>\n",
       "      <td>0.260678</td>\n",
       "      <td>30:32</td>\n",
       "    </tr>\n",
       "    <tr>\n",
       "      <td>3</td>\n",
       "      <td>0.545132</td>\n",
       "      <td>0.594874</td>\n",
       "      <td>0.735663</td>\n",
       "      <td>0.264337</td>\n",
       "      <td>0.293699</td>\n",
       "      <td>31:00</td>\n",
       "    </tr>\n",
       "  </tbody>\n",
       "</table>"
      ],
      "text/plain": [
       "<IPython.core.display.HTML object>"
      ]
     },
     "metadata": {},
     "output_type": "display_data"
    },
    {
     "name": "stdout",
     "output_type": "stream",
     "text": [
      "Better model found at epoch 0 with mcc value: 0.2297377979455668.\n",
      "Better model found at epoch 1 with mcc value: 0.26020680708058613.\n",
      "Better model found at epoch 2 with mcc value: 0.26067831068792424.\n",
      "Better model found at epoch 3 with mcc value: 0.29369941550921314.\n"
     ]
    }
   ],
   "source": [
    "with gpu_mem_restore_ctx():    \n",
    "    learn_c.fit_one_cycle(int(EPOCHS*0.2), lr, wd=wd,\n",
    "                          moms=(0.8,0.7),\n",
    "                          callbacks=callbacks)"
   ]
  },
  {
   "cell_type": "code",
   "execution_count": 28,
   "metadata": {},
   "outputs": [],
   "source": [
    "n = 1\n",
    "learn_c.load(nome);\n",
    "learn_c.save(f'{nome}_{n}')\n"
   ]
  },
  {
   "cell_type": "code",
   "execution_count": 29,
   "metadata": {},
   "outputs": [
    {
     "data": {
      "text/html": [
       "<table border=\"1\" class=\"dataframe\">\n",
       "  <thead>\n",
       "    <tr style=\"text-align: left;\">\n",
       "      <th>epoch</th>\n",
       "      <th>train_loss</th>\n",
       "      <th>valid_loss</th>\n",
       "      <th>accuracy</th>\n",
       "      <th>error_rate</th>\n",
       "      <th>mcc</th>\n",
       "      <th>time</th>\n",
       "    </tr>\n",
       "  </thead>\n",
       "  <tbody>\n",
       "    <tr>\n",
       "      <td>0</td>\n",
       "      <td>0.546600</td>\n",
       "      <td>0.581770</td>\n",
       "      <td>0.705536</td>\n",
       "      <td>0.294464</td>\n",
       "      <td>0.288511</td>\n",
       "      <td>34:56</td>\n",
       "    </tr>\n",
       "    <tr>\n",
       "      <td>1</td>\n",
       "      <td>0.540216</td>\n",
       "      <td>0.602462</td>\n",
       "      <td>0.723429</td>\n",
       "      <td>0.276571</td>\n",
       "      <td>0.291249</td>\n",
       "      <td>32:26</td>\n",
       "    </tr>\n",
       "    <tr>\n",
       "      <td>2</td>\n",
       "      <td>0.509804</td>\n",
       "      <td>0.582574</td>\n",
       "      <td>0.734537</td>\n",
       "      <td>0.265463</td>\n",
       "      <td>0.308792</td>\n",
       "      <td>35:54</td>\n",
       "    </tr>\n",
       "    <tr>\n",
       "      <td>3</td>\n",
       "      <td>0.496066</td>\n",
       "      <td>0.608473</td>\n",
       "      <td>0.747740</td>\n",
       "      <td>0.252260</td>\n",
       "      <td>0.306895</td>\n",
       "      <td>33:24</td>\n",
       "    </tr>\n",
       "  </tbody>\n",
       "</table>"
      ],
      "text/plain": [
       "<IPython.core.display.HTML object>"
      ]
     },
     "metadata": {},
     "output_type": "display_data"
    },
    {
     "name": "stdout",
     "output_type": "stream",
     "text": [
      "Better model found at epoch 0 with mcc value: 0.28851117816130345.\n",
      "Better model found at epoch 1 with mcc value: 0.2912494536965795.\n",
      "Better model found at epoch 2 with mcc value: 0.3087921585692786.\n"
     ]
    }
   ],
   "source": [
    "learn_c.freeze_to(-2)\n",
    "\n",
    "with gpu_mem_restore_ctx():\n",
    "    learn_c.fit_one_cycle(int(EPOCHS*0.2), slice(lr/(2.6**4),lr), wd=wd,\n",
    "                          moms=(0.8,0.7),\n",
    "                          callbacks=callbacks)"
   ]
  },
  {
   "cell_type": "code",
   "execution_count": 30,
   "metadata": {},
   "outputs": [],
   "source": [
    "n = 2\n",
    "learn_c.load(nome);\n",
    "learn_c.save(f'{nome}_{n}')\n"
   ]
  },
  {
   "cell_type": "code",
   "execution_count": 31,
   "metadata": {},
   "outputs": [
    {
     "data": {
      "text/html": [
       "<table border=\"1\" class=\"dataframe\">\n",
       "  <thead>\n",
       "    <tr style=\"text-align: left;\">\n",
       "      <th>epoch</th>\n",
       "      <th>train_loss</th>\n",
       "      <th>valid_loss</th>\n",
       "      <th>accuracy</th>\n",
       "      <th>error_rate</th>\n",
       "      <th>mcc</th>\n",
       "      <th>time</th>\n",
       "    </tr>\n",
       "  </thead>\n",
       "  <tbody>\n",
       "    <tr>\n",
       "      <td>0</td>\n",
       "      <td>0.512869</td>\n",
       "      <td>0.595486</td>\n",
       "      <td>0.713133</td>\n",
       "      <td>0.286867</td>\n",
       "      <td>0.297132</td>\n",
       "      <td>43:34</td>\n",
       "    </tr>\n",
       "    <tr>\n",
       "      <td>1</td>\n",
       "      <td>0.497745</td>\n",
       "      <td>0.578586</td>\n",
       "      <td>0.717914</td>\n",
       "      <td>0.282086</td>\n",
       "      <td>0.315494</td>\n",
       "      <td>46:19</td>\n",
       "    </tr>\n",
       "    <tr>\n",
       "      <td>2</td>\n",
       "      <td>0.475712</td>\n",
       "      <td>0.591799</td>\n",
       "      <td>0.726075</td>\n",
       "      <td>0.273925</td>\n",
       "      <td>0.312891</td>\n",
       "      <td>41:56</td>\n",
       "    </tr>\n",
       "    <tr>\n",
       "      <td>3</td>\n",
       "      <td>0.457767</td>\n",
       "      <td>0.600505</td>\n",
       "      <td>0.727751</td>\n",
       "      <td>0.272249</td>\n",
       "      <td>0.312518</td>\n",
       "      <td>39:10</td>\n",
       "    </tr>\n",
       "  </tbody>\n",
       "</table>"
      ],
      "text/plain": [
       "<IPython.core.display.HTML object>"
      ]
     },
     "metadata": {},
     "output_type": "display_data"
    },
    {
     "name": "stdout",
     "output_type": "stream",
     "text": [
      "Better model found at epoch 0 with mcc value: 0.29713219808214847.\n",
      "Better model found at epoch 1 with mcc value: 0.31549360165663265.\n"
     ]
    }
   ],
   "source": [
    "learn_c.freeze_to(-3)\n",
    "\n",
    "with gpu_mem_restore_ctx():\n",
    "    learn_c.fit_one_cycle(int(EPOCHS*0.2), slice(lr/2/(2.6**4),lr/2), wd=wd,\n",
    "                          moms=(0.8,0.7),\n",
    "                          callbacks=callbacks)"
   ]
  },
  {
   "cell_type": "code",
   "execution_count": 32,
   "metadata": {},
   "outputs": [],
   "source": [
    "n = 3\n",
    "learn_c.load(nome);\n",
    "learn_c.save(f'{nome}_{n}')\n"
   ]
  },
  {
   "cell_type": "code",
   "execution_count": 33,
   "metadata": {},
   "outputs": [
    {
     "data": {
      "text/html": [
       "<table border=\"1\" class=\"dataframe\">\n",
       "  <thead>\n",
       "    <tr style=\"text-align: left;\">\n",
       "      <th>epoch</th>\n",
       "      <th>train_loss</th>\n",
       "      <th>valid_loss</th>\n",
       "      <th>accuracy</th>\n",
       "      <th>error_rate</th>\n",
       "      <th>mcc</th>\n",
       "      <th>time</th>\n",
       "    </tr>\n",
       "  </thead>\n",
       "  <tbody>\n",
       "    <tr>\n",
       "      <td>0</td>\n",
       "      <td>0.482845</td>\n",
       "      <td>0.574646</td>\n",
       "      <td>0.721713</td>\n",
       "      <td>0.278287</td>\n",
       "      <td>0.321743</td>\n",
       "      <td>48:48</td>\n",
       "    </tr>\n",
       "    <tr>\n",
       "      <td>1</td>\n",
       "      <td>0.466427</td>\n",
       "      <td>0.577733</td>\n",
       "      <td>0.710592</td>\n",
       "      <td>0.289408</td>\n",
       "      <td>0.319242</td>\n",
       "      <td>57:56</td>\n",
       "    </tr>\n",
       "    <tr>\n",
       "      <td>2</td>\n",
       "      <td>0.476263</td>\n",
       "      <td>0.587351</td>\n",
       "      <td>0.718425</td>\n",
       "      <td>0.281575</td>\n",
       "      <td>0.315727</td>\n",
       "      <td>57:24</td>\n",
       "    </tr>\n",
       "    <tr>\n",
       "      <td>3</td>\n",
       "      <td>0.470129</td>\n",
       "      <td>0.602873</td>\n",
       "      <td>0.734340</td>\n",
       "      <td>0.265660</td>\n",
       "      <td>0.314315</td>\n",
       "      <td>50:22</td>\n",
       "    </tr>\n",
       "    <tr>\n",
       "      <td>4</td>\n",
       "      <td>0.457088</td>\n",
       "      <td>0.586732</td>\n",
       "      <td>0.713670</td>\n",
       "      <td>0.286330</td>\n",
       "      <td>0.319831</td>\n",
       "      <td>52:39</td>\n",
       "    </tr>\n",
       "    <tr>\n",
       "      <td>5</td>\n",
       "      <td>0.454822</td>\n",
       "      <td>0.590853</td>\n",
       "      <td>0.717076</td>\n",
       "      <td>0.282924</td>\n",
       "      <td>0.318785</td>\n",
       "      <td>47:48</td>\n",
       "    </tr>\n",
       "    <tr>\n",
       "      <td>6</td>\n",
       "      <td>0.457527</td>\n",
       "      <td>0.596995</td>\n",
       "      <td>0.720102</td>\n",
       "      <td>0.279898</td>\n",
       "      <td>0.318659</td>\n",
       "      <td>51:24</td>\n",
       "    </tr>\n",
       "    <tr>\n",
       "      <td>7</td>\n",
       "      <td>0.451514</td>\n",
       "      <td>0.611825</td>\n",
       "      <td>0.726965</td>\n",
       "      <td>0.273035</td>\n",
       "      <td>0.314625</td>\n",
       "      <td>49:56</td>\n",
       "    </tr>\n",
       "  </tbody>\n",
       "</table>"
      ],
      "text/plain": [
       "<IPython.core.display.HTML object>"
      ]
     },
     "metadata": {},
     "output_type": "display_data"
    },
    {
     "name": "stdout",
     "output_type": "stream",
     "text": [
      "Better model found at epoch 0 with mcc value: 0.32174331355165686.\n"
     ]
    }
   ],
   "source": [
    "with gpu_mem_restore_ctx():\n",
    "    learn_c.unfreeze()\n",
    "    learn_c.fit_one_cycle(int(EPOCHS*0.4), slice(lr/10/(2.6**4),lr/10), wd=wd,\n",
    "                          moms=(0.8,0.7),\n",
    "                          callbacks=callbacks)\n"
   ]
  },
  {
   "cell_type": "code",
   "execution_count": 34,
   "metadata": {},
   "outputs": [],
   "source": [
    "n = 4\n",
    "learn_c.load(nome);\n",
    "learn_c.save(f'{nome}_{n}')\n"
   ]
  },
  {
   "cell_type": "code",
   "execution_count": 35,
   "metadata": {},
   "outputs": [],
   "source": [
    "learn_c.load(f'{nome}_{4}');\n"
   ]
  },
  {
   "cell_type": "code",
   "execution_count": 36,
   "metadata": {},
   "outputs": [],
   "source": [
    "from sklearn.metrics import matthews_corrcoef"
   ]
  },
  {
   "cell_type": "code",
   "execution_count": 38,
   "metadata": {},
   "outputs": [
    {
     "data": {
      "text/html": [],
      "text/plain": [
       "<IPython.core.display.HTML object>"
      ]
     },
     "metadata": {},
     "output_type": "display_data"
    },
    {
     "name": "stdout",
     "output_type": "stream",
     "text": [
      "BAC:          0.6441\n",
      "F1-WEIGHTED:  0.7045\n",
      "F1-MICRO:     0.7217\n",
      "F1-MACRO:     0.6521\n",
      "F1-BINARY:    0.4965\n",
      "BAC ADJUSTED: 0.2882\n",
      "MCC:        0.3270\n"
     ]
    }
   ],
   "source": [
    "preds, y= learn_c.get_preds(with_loss=False, ordered=True)\n",
    "predictions = np.argmax(preds, axis = 1)\n",
    "\n",
    "print(f'BAC:          {balanced_accuracy_score(predictions, y):.4f}')\n",
    "print(f'F1-WEIGHTED:  {f1_score(predictions, y, average=\"weighted\"):.4f}')\n",
    "print(f'F1-MICRO:     {f1_score(predictions, y, average=\"micro\"):.4f}')\n",
    "print(f'F1-MACRO:     {f1_score(predictions, y, average=\"macro\"):.4f}')\n",
    "print(f'F1-BINARY:    {f1_score(predictions, y, average=\"binary\"):.4f}')\n",
    "print(f'BAC ADJUSTED: {balanced_accuracy_score(predictions, y, adjusted=True):.4f}')\n",
    "print(f'MCC:        {matthews_corrcoef(predictions, y):.4f}')"
   ]
  },
  {
   "cell_type": "code",
   "execution_count": 39,
   "metadata": {},
   "outputs": [
    {
     "name": "stdout",
     "output_type": "stream",
     "text": [
      "\n",
      "\n",
      "               precision    recall  f1-score   support\n",
      "\n",
      "           0       0.75      0.87      0.81     51031\n",
      "           1       0.62      0.41      0.50     25311\n",
      "\n",
      "    accuracy                           0.72     76342\n",
      "   macro avg       0.69      0.64      0.65     76342\n",
      "weighted avg       0.71      0.72      0.70     76342\n",
      "\n",
      "\n",
      "\n",
      " [[44623  6408]\n",
      " [14837 10474]]\n"
     ]
    }
   ],
   "source": [
    "from sklearn.metrics import classification_report , confusion_matrix\n",
    "print('\\n\\n', classification_report(predictions, y))\n",
    "print('\\n\\n', confusion_matrix(predictions, y))"
   ]
  },
  {
   "cell_type": "code",
   "execution_count": 41,
   "metadata": {},
   "outputs": [],
   "source": [
    "learn_c.model._forward_hooks = OrderedDict()"
   ]
  },
  {
   "cell_type": "code",
   "execution_count": 42,
   "metadata": {},
   "outputs": [],
   "source": [
    "learn_c.metric = list()"
   ]
  },
  {
   "cell_type": "code",
   "execution_count": 43,
   "metadata": {},
   "outputs": [],
   "source": [
    "learn_c.to_fp32().export(save_path / f'ulmfit_forward_exported')\n",
    "# experiment.stop()"
   ]
  }
 ],
 "metadata": {
  "kernelspec": {
   "display_name": "venv_paper_jef",
   "language": "python",
   "name": "venv_paper_jef"
  },
  "language_info": {
   "codemirror_mode": {
    "name": "ipython",
    "version": 3
   },
   "file_extension": ".py",
   "mimetype": "text/x-python",
   "name": "python",
   "nbconvert_exporter": "python",
   "pygments_lexer": "ipython3",
   "version": "3.8.10"
  }
 },
 "nbformat": 4,
 "nbformat_minor": 4
}
